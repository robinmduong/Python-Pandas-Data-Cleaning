{
 "cells": [
  {
   "cell_type": "code",
   "execution_count": 1,
   "metadata": {},
   "outputs": [
    {
     "data": {
      "text/html": [
       "<div>\n",
       "<style scoped>\n",
       "    .dataframe tbody tr th:only-of-type {\n",
       "        vertical-align: middle;\n",
       "    }\n",
       "\n",
       "    .dataframe tbody tr th {\n",
       "        vertical-align: top;\n",
       "    }\n",
       "\n",
       "    .dataframe thead th {\n",
       "        text-align: right;\n",
       "    }\n",
       "</style>\n",
       "<table border=\"1\" class=\"dataframe\">\n",
       "  <thead>\n",
       "    <tr style=\"text-align: right;\">\n",
       "      <th></th>\n",
       "      <th>store</th>\n",
       "      <th>websites</th>\n",
       "      <th>attribute_set</th>\n",
       "      <th>Type</th>\n",
       "      <th>category_ids</th>\n",
       "      <th>category_names</th>\n",
       "      <th>48WS_product_id</th>\n",
       "      <th>sku</th>\n",
       "      <th>has_options</th>\n",
       "      <th>name</th>\n",
       "      <th>...</th>\n",
       "      <th>stock_status_changed_automatically</th>\n",
       "      <th>use_config_qty_increments</th>\n",
       "      <th>qty_increments</th>\n",
       "      <th>use_config_enable_qty_increments</th>\n",
       "      <th>enable_qty_increments</th>\n",
       "      <th>product_name</th>\n",
       "      <th>store_id</th>\n",
       "      <th>product_type_id</th>\n",
       "      <th>product_status_changed</th>\n",
       "      <th>product_changed_websites</th>\n",
       "    </tr>\n",
       "  </thead>\n",
       "  <tbody>\n",
       "    <tr>\n",
       "      <th>0</th>\n",
       "      <td>admin</td>\n",
       "      <td>base</td>\n",
       "      <td>Default</td>\n",
       "      <td>simple</td>\n",
       "      <td>223|25662</td>\n",
       "      <td>Manual Rope Grab|Rope Grabs</td>\n",
       "      <td>13273</td>\n",
       "      <td>0113</td>\n",
       "      <td>NaN</td>\n",
       "      <td>Steel Dual Cam Rope Grab, Fall Protection 5/8&amp;...</td>\n",
       "      <td>...</td>\n",
       "      <td>0</td>\n",
       "      <td>1</td>\n",
       "      <td>0</td>\n",
       "      <td>1</td>\n",
       "      <td>0</td>\n",
       "      <td>NaN</td>\n",
       "      <td>0</td>\n",
       "      <td>simple</td>\n",
       "      <td>NaN</td>\n",
       "      <td>NaN</td>\n",
       "    </tr>\n",
       "    <tr>\n",
       "      <th>1</th>\n",
       "      <td>admin</td>\n",
       "      <td>base</td>\n",
       "      <td>Default</td>\n",
       "      <td>simple</td>\n",
       "      <td>216|25656</td>\n",
       "      <td>Non Stretch Harnesses|Harnesses</td>\n",
       "      <td>13274</td>\n",
       "      <td>1050-R</td>\n",
       "      <td>NaN</td>\n",
       "      <td>Feather Harness Fall Protection Harness</td>\n",
       "      <td>...</td>\n",
       "      <td>0</td>\n",
       "      <td>1</td>\n",
       "      <td>0</td>\n",
       "      <td>1</td>\n",
       "      <td>0</td>\n",
       "      <td>NaN</td>\n",
       "      <td>0</td>\n",
       "      <td>simple</td>\n",
       "      <td>NaN</td>\n",
       "      <td>NaN</td>\n",
       "    </tr>\n",
       "    <tr>\n",
       "      <th>2</th>\n",
       "      <td>admin</td>\n",
       "      <td>base</td>\n",
       "      <td>Default</td>\n",
       "      <td>simple</td>\n",
       "      <td>221|25664</td>\n",
       "      <td>Shock Absorbing - Lanyards|Shock-Absorbing Lan...</td>\n",
       "      <td>13276</td>\n",
       "      <td>3560</td>\n",
       "      <td>NaN</td>\n",
       "      <td>6' Dual Leg Lanyard w/ Shock Absorber 100% Tie...</td>\n",
       "      <td>...</td>\n",
       "      <td>0</td>\n",
       "      <td>1</td>\n",
       "      <td>0</td>\n",
       "      <td>1</td>\n",
       "      <td>0</td>\n",
       "      <td>NaN</td>\n",
       "      <td>0</td>\n",
       "      <td>simple</td>\n",
       "      <td>NaN</td>\n",
       "      <td>NaN</td>\n",
       "    </tr>\n",
       "    <tr>\n",
       "      <th>3</th>\n",
       "      <td>admin</td>\n",
       "      <td>base</td>\n",
       "      <td>Default</td>\n",
       "      <td>simple</td>\n",
       "      <td>216|25656</td>\n",
       "      <td>Non Stretch Harnesses|Harnesses</td>\n",
       "      <td>13277</td>\n",
       "      <td>1051-N460-LOGO</td>\n",
       "      <td>NaN</td>\n",
       "      <td>Feather Positioning Harness with Back and Wais...</td>\n",
       "      <td>...</td>\n",
       "      <td>0</td>\n",
       "      <td>1</td>\n",
       "      <td>0</td>\n",
       "      <td>1</td>\n",
       "      <td>0</td>\n",
       "      <td>NaN</td>\n",
       "      <td>0</td>\n",
       "      <td>simple</td>\n",
       "      <td>NaN</td>\n",
       "      <td>NaN</td>\n",
       "    </tr>\n",
       "    <tr>\n",
       "      <th>4</th>\n",
       "      <td>admin</td>\n",
       "      <td>base</td>\n",
       "      <td>Default</td>\n",
       "      <td>simple</td>\n",
       "      <td>221|25664</td>\n",
       "      <td>Shock Absorbing - Lanyards|Shock-Absorbing Lan...</td>\n",
       "      <td>13278</td>\n",
       "      <td>3561</td>\n",
       "      <td>NaN</td>\n",
       "      <td>6' Shock Absorbing Lanyard with Clip to Tie Ba...</td>\n",
       "      <td>...</td>\n",
       "      <td>0</td>\n",
       "      <td>1</td>\n",
       "      <td>0</td>\n",
       "      <td>1</td>\n",
       "      <td>0</td>\n",
       "      <td>NaN</td>\n",
       "      <td>0</td>\n",
       "      <td>simple</td>\n",
       "      <td>NaN</td>\n",
       "      <td>NaN</td>\n",
       "    </tr>\n",
       "  </tbody>\n",
       "</table>\n",
       "<p>5 rows × 77 columns</p>\n",
       "</div>"
      ],
      "text/plain": [
       "   store websites attribute_set    Type category_ids  \\\n",
       "0  admin     base       Default  simple    223|25662   \n",
       "1  admin     base       Default  simple    216|25656   \n",
       "2  admin     base       Default  simple    221|25664   \n",
       "3  admin     base       Default  simple    216|25656   \n",
       "4  admin     base       Default  simple    221|25664   \n",
       "\n",
       "                                      category_names  48WS_product_id  \\\n",
       "0                        Manual Rope Grab|Rope Grabs            13273   \n",
       "1                    Non Stretch Harnesses|Harnesses            13274   \n",
       "2  Shock Absorbing - Lanyards|Shock-Absorbing Lan...            13276   \n",
       "3                    Non Stretch Harnesses|Harnesses            13277   \n",
       "4  Shock Absorbing - Lanyards|Shock-Absorbing Lan...            13278   \n",
       "\n",
       "              sku  has_options  \\\n",
       "0            0113          NaN   \n",
       "1          1050-R          NaN   \n",
       "2            3560          NaN   \n",
       "3  1051-N460-LOGO          NaN   \n",
       "4            3561          NaN   \n",
       "\n",
       "                                                name  ...  \\\n",
       "0  Steel Dual Cam Rope Grab, Fall Protection 5/8&...  ...   \n",
       "1            Feather Harness Fall Protection Harness  ...   \n",
       "2  6' Dual Leg Lanyard w/ Shock Absorber 100% Tie...  ...   \n",
       "3  Feather Positioning Harness with Back and Wais...  ...   \n",
       "4  6' Shock Absorbing Lanyard with Clip to Tie Ba...  ...   \n",
       "\n",
       "  stock_status_changed_automatically use_config_qty_increments qty_increments  \\\n",
       "0                                  0                         1              0   \n",
       "1                                  0                         1              0   \n",
       "2                                  0                         1              0   \n",
       "3                                  0                         1              0   \n",
       "4                                  0                         1              0   \n",
       "\n",
       "  use_config_enable_qty_increments enable_qty_increments product_name  \\\n",
       "0                                1                     0          NaN   \n",
       "1                                1                     0          NaN   \n",
       "2                                1                     0          NaN   \n",
       "3                                1                     0          NaN   \n",
       "4                                1                     0          NaN   \n",
       "\n",
       "  store_id product_type_id  product_status_changed product_changed_websites  \n",
       "0        0          simple                     NaN                      NaN  \n",
       "1        0          simple                     NaN                      NaN  \n",
       "2        0          simple                     NaN                      NaN  \n",
       "3        0          simple                     NaN                      NaN  \n",
       "4        0          simple                     NaN                      NaN  \n",
       "\n",
       "[5 rows x 77 columns]"
      ]
     },
     "execution_count": 1,
     "metadata": {},
     "output_type": "execute_result"
    }
   ],
   "source": [
    "import pandas as pd\n",
    "# import numpy as np\n",
    "import bs4 as bs\n",
    "import re\n",
    "\n",
    "df = pd.read_csv('3M-ManufacturerExport-2-1-2021 - TEST.csv')\n",
    "df.head()"
   ]
  },
  {
   "cell_type": "code",
   "execution_count": 2,
   "metadata": {},
   "outputs": [],
   "source": [
    "# df.columns"
   ]
  },
  {
   "cell_type": "code",
   "execution_count": 3,
   "metadata": {},
   "outputs": [
    {
     "data": {
      "text/plain": [
       "'<li>(bul) Tensile Strength: 5,000 lbs.</li><li>\\r\\n(bul) Weight Capacity: 400 lbs.</li><li>\\r\\n(bul) Drill Hole: 3/4 inc.</li><li>\\r\\n(bul) Depth: 3 inch.</li>'"
      ]
     },
     "execution_count": 3,
     "metadata": {},
     "output_type": "execute_result"
    }
   ],
   "source": [
    "#TEST - Wanted to check one cell that definitely contains HTML\n",
    "\n",
    "SKU_4075_Short_Desc = df.iloc[7, 39]\n",
    "SKU_4075_Short_Desc\n",
    "\n",
    "#Old Test\n",
    "#SKU_4075_Short_Desc = df.iloc[row='admin', column = 'short_description']"
   ]
  },
  {
   "cell_type": "code",
   "execution_count": 4,
   "metadata": {},
   "outputs": [],
   "source": [
    "# Test Using Beautiful Soup\n",
    "# file_without_html_1 = bs(df, \"html.parser\")"
   ]
  },
  {
   "cell_type": "code",
   "execution_count": 5,
   "metadata": {},
   "outputs": [],
   "source": [
    "#Test to see what data types are in each cell\n",
    "\n",
    "# [] contains a set of characters to match\n",
    "# ^ excludes any character in the set.\n",
    "\n",
    "# file_no_html = df\n",
    "# for col in file_no_html.columns:\n",
    "#     print(file_no_html[col].dtypes)"
   ]
  },
  {
   "cell_type": "code",
   "execution_count": 6,
   "metadata": {},
   "outputs": [
    {
     "ename": "NameError",
     "evalue": "name 'colb' is not defined",
     "output_type": "error",
     "traceback": [
      "\u001b[1;31m---------------------------------------------------------------------------\u001b[0m",
      "\u001b[1;31mNameError\u001b[0m                                 Traceback (most recent call last)",
      "\u001b[1;32m<ipython-input-6-16a40788d761>\u001b[0m in \u001b[0;36m<module>\u001b[1;34m\u001b[0m\n\u001b[0;32m      3\u001b[0m \u001b[0mfile_no_html\u001b[0m \u001b[1;33m=\u001b[0m \u001b[0mfile_no_html\u001b[0m\u001b[1;33m.\u001b[0m\u001b[0mastype\u001b[0m\u001b[1;33m(\u001b[0m\u001b[0mstr\u001b[0m\u001b[1;33m)\u001b[0m\u001b[1;33m\u001b[0m\u001b[1;33m\u001b[0m\u001b[0m\n\u001b[0;32m      4\u001b[0m \u001b[1;32mfor\u001b[0m \u001b[0mcol\u001b[0m \u001b[1;32min\u001b[0m \u001b[0mfile_no_html\u001b[0m\u001b[1;33m.\u001b[0m\u001b[0mcolumns\u001b[0m\u001b[1;33m:\u001b[0m\u001b[1;33m\u001b[0m\u001b[1;33m\u001b[0m\u001b[0m\n\u001b[1;32m----> 5\u001b[1;33m     \u001b[0mfile_no_html\u001b[0m\u001b[1;33m[\u001b[0m\u001b[0mcol\u001b[0m\u001b[1;33m]\u001b[0m \u001b[1;33m=\u001b[0m \u001b[0mfile_no_html\u001b[0m\u001b[1;33m[\u001b[0m\u001b[0mcolb\u001b[0m\u001b[1;33m]\u001b[0m\u001b[1;33m.\u001b[0m\u001b[0mreplace\u001b[0m\u001b[1;33m(\u001b[0m\u001b[1;33m{\u001b[0m\u001b[1;34m'<[^<]+?>'\u001b[0m \u001b[1;33m:\u001b[0m \u001b[1;34m''\u001b[0m\u001b[1;33m,\u001b[0m \u001b[1;34m'\\(bul\\)'\u001b[0m \u001b[1;33m:\u001b[0m \u001b[1;34m''\u001b[0m\u001b[1;33m,\u001b[0m \u001b[1;34m'&quot;'\u001b[0m \u001b[1;33m:\u001b[0m \u001b[1;34m'\"'\u001b[0m\u001b[1;33m,\u001b[0m \u001b[1;34m'&trade;'\u001b[0m \u001b[1;33m:\u001b[0m \u001b[1;34m'™'\u001b[0m\u001b[1;33m}\u001b[0m\u001b[1;33m,\u001b[0m \u001b[0mregex\u001b[0m\u001b[1;33m=\u001b[0m\u001b[1;32mTrue\u001b[0m\u001b[1;33m)\u001b[0m\u001b[1;33m\u001b[0m\u001b[1;33m\u001b[0m\u001b[0m\n\u001b[0m",
      "\u001b[1;31mNameError\u001b[0m: name 'colb' is not defined"
     ]
    }
   ],
   "source": [
    "# Replace all NaNs with nothing, without deleting the text \"nan\" from things like \"Nono filter\" or \"Maintenance\"\n",
    "file_no_html = df.fillna('')\n",
    "file_no_html = file_no_html.astype(str)\n",
    "for col in file_no_html.columns:\n",
    "    file_no_html[col] = file_no_html[colb].replace({'<[^<]+?>' : '', '\\(bul\\)' : '', '&quot;' : '\"', '&trade;' : '™'}, regex=True)"
   ]
  },
  {
   "cell_type": "code",
   "execution_count": null,
   "metadata": {},
   "outputs": [],
   "source": [
    "# Just a test to make sure original df not affected\n",
    "df.head()\n",
    "\n",
    "# If you run this, the NaN's should be gone, but the text for \"nan\" should remain.\n",
    "# file_no_html.head()"
   ]
  },
  {
   "cell_type": "code",
   "execution_count": null,
   "metadata": {},
   "outputs": [],
   "source": [
    "# file_without_html = df\n",
    "# file_without_html.replace(\"<[^>]*>\", \"\")\n",
    "\n",
    "\n",
    "#     file_no_html[col] = file_no_html[col].astype(str)"
   ]
  },
  {
   "cell_type": "code",
   "execution_count": null,
   "metadata": {},
   "outputs": [],
   "source": [
    "# Test to see if column AN still has HTML or not\n",
    "short_desc = file_no_html[['short_description']]\n",
    "print(short_desc)"
   ]
  },
  {
   "cell_type": "code",
   "execution_count": null,
   "metadata": {},
   "outputs": [],
   "source": [
    "# Make sure original file not affected\n",
    "# df[['short_description']]"
   ]
  },
  {
   "cell_type": "code",
   "execution_count": null,
   "metadata": {},
   "outputs": [],
   "source": [
    "file_no_html.to_csv(\"xRemove-All-HTML-02.02.2021-Robin-Duong-Ver1-NO-HTML.csv\",encoding='utf-8-sig', index=False)"
   ]
  },
  {
   "cell_type": "code",
   "execution_count": null,
   "metadata": {},
   "outputs": [],
   "source": []
  }
 ],
 "metadata": {
  "kernelspec": {
   "display_name": "Python 3",
   "language": "python",
   "name": "python3"
  },
  "language_info": {
   "codemirror_mode": {
    "name": "ipython",
    "version": 3
   },
   "file_extension": ".py",
   "mimetype": "text/x-python",
   "name": "python",
   "nbconvert_exporter": "python",
   "pygments_lexer": "ipython3",
   "version": "3.8.5"
  }
 },
 "nbformat": 4,
 "nbformat_minor": 4
}
