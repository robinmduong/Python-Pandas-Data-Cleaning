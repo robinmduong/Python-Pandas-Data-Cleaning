{
 "cells": [
  {
   "cell_type": "code",
   "execution_count": 2,
   "metadata": {},
   "outputs": [],
   "source": [
    "import pandas as pd\n",
    "import glob\n",
    "# import numpy as np\n",
    "# import bs4 as bs\n",
    "# import re - some online sources warn that using Regex on HTML is a bad idea\n",
    "\n",
    "# ONLY LINE THAT NEEDS CHANGING - UPDATE THE FILE NAME. THE FILE_NAME GETS USED IN LAST CODE BLOCK, TOO.\n",
    "#file_name = \"Henkel-Corporation-ManufacturerExport-2-1-2021\"\n",
    "files_list = glob.glob(\"*ManufacturerExport*.csv\")\n",
    "for file in files_list:\n",
    "    df = pd.read_csv(file)\n",
    "    # Replace all NaNs with nothing, without deleting the text \"nan\" from things like \"NANo filter\" or \"MainteNANce\"\n",
    "    file_no_html = df.fillna('')\n",
    "    file_no_html = file_no_html.astype(str)\n",
    "    for col in file_no_html.columns:\n",
    "        file_no_html[col] = file_no_html[col].replace({'<[^<]+?>' : '', '\\(bul\\)' : '', '&quot;' : '\"', '&trade;' : '™'}, regex=True)\n",
    "    # Make sure the file named below is closed in Excel or else code won't run:\n",
    "    #Change the folder path accordingly and make sure folder exists. This is where the file will output.\n",
    "    folder_path = \"./Manufacturers_CSV_No_HTML_Using_Pandas_Glob/\" + file\n",
    "    file_no_html.to_csv(folder_path, encoding='utf-8-sig', index=False)"
   ]
  },
  {
   "cell_type": "code",
   "execution_count": null,
   "metadata": {},
   "outputs": [],
   "source": [
    "# df.columns"
   ]
  },
  {
   "cell_type": "code",
   "execution_count": null,
   "metadata": {},
   "outputs": [],
   "source": [
    "#TEST - Wanted to check one cell that definitely contains HTML\n",
    "\n",
    "#SKU_4075_Short_Desc = df.iloc[7, 39]\n",
    "#SKU_4075_Short_Desc\n",
    "\n",
    "#Old Test\n",
    "#SKU_4075_Short_Desc = df.iloc[row='admin', column = 'short_description']"
   ]
  },
  {
   "cell_type": "code",
   "execution_count": null,
   "metadata": {},
   "outputs": [],
   "source": [
    "# Test - Beautiful Soup library\n",
    "# file_without_html_1 = bs(df, \"html.parser\")"
   ]
  },
  {
   "cell_type": "code",
   "execution_count": null,
   "metadata": {},
   "outputs": [],
   "source": [
    "#Test - See data type of each cell\n",
    "\n",
    "# [] contains a set of characters to match\n",
    "# ^ excludes any character in the set.\n",
    "\n",
    "# file_no_html = df\n",
    "# for col in file_no_html.columns:\n",
    "#     print(file_no_html[col].dtypes)"
   ]
  },
  {
   "cell_type": "code",
   "execution_count": null,
   "metadata": {},
   "outputs": [],
   "source": [
    "# Test - make sure original df not affected\n",
    "#df.head()\n",
    "\n",
    "# Test - If you run this, make sure the NaN's should be gone, but the text for \"nan\" should remain (e.g., \"MaintenNANce\" or \"NANo\" isn't affected)\n",
    "# file_no_html.head()"
   ]
  },
  {
   "cell_type": "code",
   "execution_count": null,
   "metadata": {},
   "outputs": [],
   "source": [
    "# Test to see if column \"AN\" still has HTML or not\n",
    "# short_desc = file_no_html[['short_description']]\n",
    "# print(short_desc)"
   ]
  },
  {
   "cell_type": "code",
   "execution_count": null,
   "metadata": {},
   "outputs": [],
   "source": [
    "# Test - Make sure original file not affected\n",
    "# df[['short_description']]"
   ]
  },
  {
   "cell_type": "code",
   "execution_count": null,
   "metadata": {},
   "outputs": [],
   "source": []
  }
 ],
 "metadata": {
  "kernelspec": {
   "display_name": "Python 3",
   "language": "python",
   "name": "python3"
  },
  "language_info": {
   "codemirror_mode": {
    "name": "ipython",
    "version": 3
   },
   "file_extension": ".py",
   "mimetype": "text/x-python",
   "name": "python",
   "nbconvert_exporter": "python",
   "pygments_lexer": "ipython3",
   "version": "3.8.5"
  }
 },
 "nbformat": 4,
 "nbformat_minor": 4
}
